{
 "cells": [
  {
   "cell_type": "markdown",
   "metadata": {},
   "source": [
    "===============================================================================\n",
    "    WHILE LOOPS\n",
    "============================================================================    "
   ]
  },
  {
   "cell_type": "markdown",
   "metadata": {},
   "source": [
    "while loop is the most general way to perform iteration. A while statement will repeatidly execute a single statement or group of statements until a true value occurs."
   ]
  },
  {
   "cell_type": "markdown",
   "metadata": {},
   "source": [
    "#syntax\n",
    "while test:\n",
    "    code statement\n",
    "else:\n",
    "    final code statement\n",
    "    "
   ]
  },
  {
   "cell_type": "code",
   "execution_count": null,
   "metadata": {},
   "outputs": [],
   "source": [
    "x = 0\n",
    "while x < 10:\n",
    "    print('x is currently:',x)\n",
    "    x += 1\n"
   ]
  },
  {
   "cell_type": "code",
   "execution_count": null,
   "metadata": {},
   "outputs": [],
   "source": []
  },
  {
   "cell_type": "code",
   "execution_count": 4,
   "metadata": {
    "scrolled": true
   },
   "outputs": [
    {
     "name": "stdout",
     "output_type": "stream",
     "text": [
      "x is currently: 0\n",
      "x is currently: 1\n",
      "x is currently: 2\n",
      "x is currently: 3\n",
      "x is currently: 4\n",
      "x is currently: 5\n",
      "x is currently: 6\n",
      "x is currently: 7\n",
      "x is currently: 8\n",
      "x is currently: 9\n"
     ]
    }
   ],
   "source": [
    "x=0\n",
    "while (x<10):\n",
    "    print('x is currently:',x)\n",
    "    x=x+1\n",
    "    "
   ]
  },
  {
   "cell_type": "code",
   "execution_count": 4,
   "metadata": {
    "scrolled": true
   },
   "outputs": [
    {
     "name": "stdout",
     "output_type": "stream",
     "text": [
      "x is curently: 0\n",
      "x is curently: 1\n",
      "x is curently: 2\n",
      "x is curently: 3\n",
      "x is curently: 4\n",
      "x is curently: 5\n",
      "x is curently: 6\n",
      "x is curently: 7\n",
      "x is curently: 8\n",
      "x is curently: 9\n",
      " All done!\n"
     ]
    }
   ],
   "source": [
    "x=0\n",
    "while (x<10):\n",
    "    print('x is curently:',x)\n",
    "    x+=1\n",
    "else:\n",
    "    print(' All done!')"
   ]
  },
  {
   "cell_type": "code",
   "execution_count": 1,
   "metadata": {},
   "outputs": [
    {
     "name": "stdout",
     "output_type": "stream",
     "text": [
      "1\n",
      "2\n",
      "3\n",
      "4\n",
      "5\n"
     ]
    }
   ],
   "source": [
    "i=1\n",
    "while i<6:\n",
    "    print(i)\n",
    "    i+=1"
   ]
  },
  {
   "cell_type": "markdown",
   "metadata": {},
   "source": [
    "#BREAK CONTINUE PASS\n",
    "#SYNTAX\n",
    "while test:\n",
    "    code statement\n",
    "    if test:\n",
    "        break\n",
    "    if test:\n",
    "        continue\n",
    "else:\n",
    "    "
   ]
  },
  {
   "cell_type": "code",
   "execution_count": 8,
   "metadata": {},
   "outputs": [
    {
     "name": "stdout",
     "output_type": "stream",
     "text": [
      "X is currently: 0\n",
      "x is still less than 10,adding 1 to  x\n",
      "continuing...\n",
      "X is currently: 1\n",
      "x is still less than 10,adding 1 to  x\n",
      "continuing...\n",
      "X is currently: 2\n",
      "x is still less than 10,adding 1 to  x\n",
      "hey x equals 3\n"
     ]
    }
   ],
   "source": [
    "x=0\n",
    "while x<10:\n",
    "    print('X is currently:',x)\n",
    "    print('x is still less than 10,adding 1 to  x')\n",
    "    x+=1\n",
    "    if x==3:\n",
    "        print('hey x equals 3')\n",
    "        break\n",
    "    else:\n",
    "        print('continuing...')\n",
    "        continue"
   ]
  }
 ],
 "metadata": {
  "kernelspec": {
   "display_name": "Python 3",
   "language": "python",
   "name": "python3"
  },
  "language_info": {
   "codemirror_mode": {
    "name": "ipython",
    "version": 3
   },
   "file_extension": ".py",
   "mimetype": "text/x-python",
   "name": "python",
   "nbconvert_exporter": "python",
   "pygments_lexer": "ipython3",
   "version": "3.7.4"
  }
 },
 "nbformat": 4,
 "nbformat_minor": 2
}
